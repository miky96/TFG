{
 "cells": [
  {
   "cell_type": "code",
   "execution_count": 1,
   "metadata": {},
   "outputs": [],
   "source": [
    "from sklearn import svm\n",
    "import pandas as pd\n",
    "import numpy as np\n",
    "from sklearn.model_selection import train_test_split\n",
    "from sklearn import metrics\n",
    "from sklearn.model_selection import GridSearchCV\n",
    "from sklearn.model_selection import RandomizedSearchCV"
   ]
  },
  {
   "cell_type": "code",
   "execution_count": 2,
   "metadata": {},
   "outputs": [],
   "source": [
    "tempIemisions = pd.read_csv(\"DataSetFinal.csv\", index_col=0)\n",
    "dummiesCountry=pd.get_dummies(tempIemisions['Country'],drop_first=1)\n",
    "tempIemisions=pd.concat([tempIemisions,dummiesCountry],axis=1)\n",
    "tempIemisions=tempIemisions.drop(['Country'], axis=1)"
   ]
  },
  {
   "cell_type": "code",
   "execution_count": 3,
   "metadata": {},
   "outputs": [
    {
     "name": "stdout",
     "output_type": "stream",
     "text": [
      "Mean Absolute Error: 7.254233346904271\n",
      "Mean Squared Error: 92.57982341233784\n",
      "Root Mean Squared Error: 9.62184095754746\n"
     ]
    }
   ],
   "source": [
    "#fem X totes les columnes menys temp i y nomes temp el axis=1 es per indicar\n",
    "#que es una label de les columnes\n",
    "X = tempIemisions.drop('AverageTemperature', axis=1)\n",
    "y = tempIemisions['AverageTemperature']\n",
    "\n",
    "#dividim el dataSet en test 20% i entrenament 80%\n",
    "#el random_state es la llavor que s'utilitzarà per randomitzar \n",
    "X_train, X_test, y_train, y_test = train_test_split(X, y, test_size=0.2, random_state=2)\n",
    "#creem l'algorisme del SVM i l'entrenem\n",
    "clf = svm.SVR(kernel='rbf',C=0.001)\n",
    "clf.fit(X_train, y_train)\n",
    "y_pred = clf.predict(X_test)\n",
    "df=pd.DataFrame({'Actual':y_test, 'Predicted':y_pred})  \n",
    "print('Mean Absolute Error:', metrics.mean_absolute_error(y_test, y_pred))  \n",
    "print('Mean Squared Error:', metrics.mean_squared_error(y_test, y_pred))  \n",
    "print('Root Mean Squared Error:', np.sqrt(metrics.mean_squared_error(y_test, y_pred)))\n",
    "comparacio=pd.DataFrame({'Actual':y_test, 'Predicted':y_pred})\n",
    "#print (comparacio)"
   ]
  },
  {
   "cell_type": "code",
   "execution_count": 4,
   "metadata": {},
   "outputs": [
    {
     "name": "stdout",
     "output_type": "stream",
     "text": [
      "Fitting 3 folds for each of 10 candidates, totalling 30 fits\n",
      "[CV] C=0.001, kernel=linear ..........................................\n",
      "[CV] . C=0.001, kernel=linear, score=-12.01049024206159, total= 7.7min\n",
      "[CV] C=0.001, kernel=linear ..........................................\n"
     ]
    },
    {
     "name": "stderr",
     "output_type": "stream",
     "text": [
      "[Parallel(n_jobs=1)]: Done   1 out of   1 | elapsed:  7.7min remaining:    0.0s\n"
     ]
    },
    {
     "name": "stdout",
     "output_type": "stream",
     "text": [
      "[CV] . C=0.001, kernel=linear, score=-9.735819227732279, total= 8.4min\n",
      "[CV] C=0.001, kernel=linear ..........................................\n"
     ]
    },
    {
     "name": "stderr",
     "output_type": "stream",
     "text": [
      "[Parallel(n_jobs=1)]: Done   2 out of   2 | elapsed: 16.1min remaining:    0.0s\n"
     ]
    },
    {
     "name": "stdout",
     "output_type": "stream",
     "text": [
      "[CV] . C=0.001, kernel=linear, score=-8.684348221094734, total= 8.0min\n",
      "[CV] C=0.001, kernel=rbf .............................................\n"
     ]
    },
    {
     "name": "stderr",
     "output_type": "stream",
     "text": [
      "[Parallel(n_jobs=1)]: Done   3 out of   3 | elapsed: 24.0min remaining:    0.0s\n"
     ]
    },
    {
     "name": "stdout",
     "output_type": "stream",
     "text": [
      "[CV] .... C=0.001, kernel=rbf, score=-7.493719458596398, total=   1.7s\n",
      "[CV] C=0.001, kernel=rbf .............................................\n"
     ]
    },
    {
     "name": "stderr",
     "output_type": "stream",
     "text": [
      "[Parallel(n_jobs=1)]: Done   4 out of   4 | elapsed: 24.1min remaining:    0.0s\n"
     ]
    },
    {
     "name": "stdout",
     "output_type": "stream",
     "text": [
      "[CV] ... C=0.001, kernel=rbf, score=-7.2462079950666896, total=   1.7s\n",
      "[CV] C=0.001, kernel=rbf .............................................\n",
      "[CV] .... C=0.001, kernel=rbf, score=-7.323767736254197, total=   1.7s\n",
      "[CV] C=0.01, kernel=linear ...........................................\n",
      "[CV] . C=0.01, kernel=linear, score=-26.183599513865467, total= 8.5min\n",
      "[CV] C=0.01, kernel=linear ...........................................\n",
      "[CV] .. C=0.01, kernel=linear, score=-51.29059548703198, total=11.6min\n",
      "[CV] C=0.01, kernel=linear ...........................................\n",
      "[CV] . C=0.01, kernel=linear, score=-27.532134604738793, total=12.8min\n",
      "[CV] C=0.01, kernel=rbf ..............................................\n",
      "[CV] ..... C=0.01, kernel=rbf, score=-7.493420806396788, total=   1.6s\n",
      "[CV] C=0.01, kernel=rbf ..............................................\n",
      "[CV] ..... C=0.01, kernel=rbf, score=-7.245435763449983, total=   1.6s\n",
      "[CV] C=0.01, kernel=rbf ..............................................\n",
      "[CV] ..... C=0.01, kernel=rbf, score=-7.323298902551977, total=   1.6s\n",
      "[CV] C=0.1, kernel=linear ............................................\n",
      "[CV] ... C=0.1, kernel=linear, score=-585.6495537399321, total=13.5min\n",
      "[CV] C=0.1, kernel=linear ............................................\n",
      "[CV] ... C=0.1, kernel=linear, score=-853.8170032574452, total=10.4min\n",
      "[CV] C=0.1, kernel=linear ............................................\n",
      "[CV] .. C=0.1, kernel=linear, score=-37.463476791345876, total=11.8min\n",
      "[CV] C=0.1, kernel=rbf ...............................................\n",
      "[CV] ...... C=0.1, kernel=rbf, score=-7.488812381246667, total=   1.6s\n",
      "[CV] C=0.1, kernel=rbf ...............................................\n",
      "[CV] ...... C=0.1, kernel=rbf, score=-7.240318527569692, total=   1.6s\n",
      "[CV] C=0.1, kernel=rbf ...............................................\n",
      "[CV] ...... C=0.1, kernel=rbf, score=-7.318626596574347, total=   1.6s\n",
      "[CV] C=0.5, kernel=linear ............................................\n",
      "[CV] ... C=0.5, kernel=linear, score=-814.0633770641986, total=13.2min\n",
      "[CV] C=0.5, kernel=linear ............................................\n",
      "[CV] ... C=0.5, kernel=linear, score=-2102.778674366098, total=21.8min\n",
      "[CV] C=0.5, kernel=linear ............................................\n",
      "[CV] .. C=0.5, kernel=linear, score=-3644.1591326200473, total= 7.4min\n",
      "[CV] C=0.5, kernel=rbf ...............................................\n",
      "[CV] ...... C=0.5, kernel=rbf, score=-7.468806001829533, total=   1.6s\n",
      "[CV] C=0.5, kernel=rbf ...............................................\n",
      "[CV] ...... C=0.5, kernel=rbf, score=-7.217830348089312, total=   1.6s\n",
      "[CV] C=0.5, kernel=rbf ...............................................\n",
      "[CV] ...... C=0.5, kernel=rbf, score=-7.297816917503646, total=   1.6s\n",
      "[CV] C=1, kernel=linear ..............................................\n",
      "[CV] ..... C=1, kernel=linear, score=-2253.814731351717, total=11.4min\n",
      "[CV] C=1, kernel=linear ..............................................\n",
      "[CV] ..... C=1, kernel=linear, score=-3930.708904843533, total=19.1min\n",
      "[CV] C=1, kernel=linear ..............................................\n",
      "[CV] .... C=1, kernel=linear, score=-4241.4094000823225, total= 9.3min\n",
      "[CV] C=1, kernel=rbf .................................................\n",
      "[CV] ........ C=1, kernel=rbf, score=-7.447360954895767, total=   1.6s\n",
      "[CV] C=1, kernel=rbf .................................................\n",
      "[CV] ........ C=1, kernel=rbf, score=-7.194034047103718, total=   1.6s\n",
      "[CV] C=1, kernel=rbf .................................................\n",
      "[CV] ........ C=1, kernel=rbf, score=-7.276425859641628, total=   1.6s\n"
     ]
    },
    {
     "name": "stderr",
     "output_type": "stream",
     "text": [
      "[Parallel(n_jobs=1)]: Done  30 out of  30 | elapsed: 175.8min finished\n"
     ]
    },
    {
     "name": "stdout",
     "output_type": "stream",
     "text": [
      "Millor combinacio: {'C': 1, 'kernel': 'rbf'}\n",
      "Mean Absolute Error: 7.211281816185109\n",
      "Mean Squared Error: 91.76890884786111\n",
      "Root Mean Squared Error: 9.579609013308483\n"
     ]
    }
   ],
   "source": [
    "parameters = {'kernel':['linear', 'rbf'], 'C':[0.001, 0.01, 0.1,0.5,1]}\n",
    "scoring = 'neg_mean_absolute_error'\n",
    "svr1 = svm.SVR()\n",
    "gscv=GridSearchCV(svr1,parameters,scoring,verbose=5)\n",
    "gscv.fit(X_train,y_train)\n",
    "\n",
    "#resultats\n",
    "print('Millor combinacio:', gscv.best_params_)\n",
    "y_pred = gscv.predict(X_test)\n",
    "print('Mean Absolute Error:', metrics.mean_absolute_error(y_test, y_pred))  \n",
    "print('Mean Squared Error:', metrics.mean_squared_error(y_test, y_pred))  \n",
    "print('Root Mean Squared Error:', np.sqrt(metrics.mean_squared_error(y_test, y_pred)))"
   ]
  },
  {
   "cell_type": "code",
   "execution_count": 5,
   "metadata": {},
   "outputs": [
    {
     "name": "stdout",
     "output_type": "stream",
     "text": [
      "Fitting 3 folds for each of 8 candidates, totalling 24 fits\n",
      "[CV] kernel=linear, C=1 ..............................................\n",
      "[CV] ..... kernel=linear, C=1, score=-2253.814731351717, total=11.3min\n",
      "[CV] kernel=linear, C=1 ..............................................\n"
     ]
    },
    {
     "name": "stderr",
     "output_type": "stream",
     "text": [
      "[Parallel(n_jobs=1)]: Done   1 out of   1 | elapsed: 11.4min remaining:    0.0s\n"
     ]
    },
    {
     "name": "stdout",
     "output_type": "stream",
     "text": [
      "[CV] ..... kernel=linear, C=1, score=-3930.708904843533, total=19.3min\n",
      "[CV] kernel=linear, C=1 ..............................................\n"
     ]
    },
    {
     "name": "stderr",
     "output_type": "stream",
     "text": [
      "[Parallel(n_jobs=1)]: Done   2 out of   2 | elapsed: 30.6min remaining:    0.0s\n"
     ]
    },
    {
     "name": "stdout",
     "output_type": "stream",
     "text": [
      "[CV] .... kernel=linear, C=1, score=-4241.4094000823225, total= 9.4min\n",
      "[CV] kernel=rbf, C=1 .................................................\n"
     ]
    },
    {
     "name": "stderr",
     "output_type": "stream",
     "text": [
      "[Parallel(n_jobs=1)]: Done   3 out of   3 | elapsed: 40.0min remaining:    0.0s\n"
     ]
    },
    {
     "name": "stdout",
     "output_type": "stream",
     "text": [
      "[CV] ........ kernel=rbf, C=1, score=-7.447360954895767, total=   1.6s\n",
      "[CV] kernel=rbf, C=1 .................................................\n"
     ]
    },
    {
     "name": "stderr",
     "output_type": "stream",
     "text": [
      "[Parallel(n_jobs=1)]: Done   4 out of   4 | elapsed: 40.1min remaining:    0.0s\n"
     ]
    },
    {
     "name": "stdout",
     "output_type": "stream",
     "text": [
      "[CV] ........ kernel=rbf, C=1, score=-7.194034047103718, total=   1.6s\n",
      "[CV] kernel=rbf, C=1 .................................................\n",
      "[CV] ........ kernel=rbf, C=1, score=-7.276425859641628, total=   1.6s\n",
      "[CV] kernel=linear, C=2 ..............................................\n",
      "[CV] .... kernel=linear, C=2, score=-5081.7231627715755, total= 9.4min\n",
      "[CV] kernel=linear, C=2 ..............................................\n",
      "[CV] ..... kernel=linear, C=2, score=-6071.773352731275, total=15.6min\n",
      "[CV] kernel=linear, C=2 ..............................................\n",
      "[CV] ..... kernel=linear, C=2, score=-5487.978111361714, total=13.4min\n",
      "[CV] kernel=rbf, C=2 .................................................\n",
      "[CV] ....... kernel=rbf, C=2, score=-7.4145657979849675, total=   1.6s\n",
      "[CV] kernel=rbf, C=2 .................................................\n",
      "[CV] ........ kernel=rbf, C=2, score=-7.162995131244714, total=   1.6s\n",
      "[CV] kernel=rbf, C=2 .................................................\n",
      "[CV] ........ kernel=rbf, C=2, score=-7.248110958055599, total=   1.6s\n",
      "[CV] kernel=linear, C=3 ..............................................\n",
      "[CV] ..... kernel=linear, C=3, score=-6294.243268895254, total=19.1min\n",
      "[CV] kernel=linear, C=3 ..............................................\n",
      "[CV] .... kernel=linear, C=3, score=-11567.714331430967, total=13.8min\n",
      "[CV] kernel=linear, C=3 ..............................................\n",
      "[CV] ...... kernel=linear, C=3, score=-9345.54802442187, total= 8.0min\n",
      "[CV] kernel=rbf, C=3 .................................................\n",
      "[CV] ........ kernel=rbf, C=3, score=-7.390484985987823, total=   1.7s\n",
      "[CV] kernel=rbf, C=3 .................................................\n",
      "[CV] .......... kernel=rbf, C=3, score=-7.1390355409055, total=   1.7s\n",
      "[CV] kernel=rbf, C=3 .................................................\n",
      "[CV] ........ kernel=rbf, C=3, score=-7.223874206831551, total=   1.8s\n",
      "[CV] kernel=linear, C=4 ..............................................\n",
      "[CV] .... kernel=linear, C=4, score=-14824.181711512965, total= 7.0min\n",
      "[CV] kernel=linear, C=4 ..............................................\n",
      "[CV] .... kernel=linear, C=4, score=-18384.039830092213, total=13.0min\n",
      "[CV] kernel=linear, C=4 ..............................................\n",
      "[CV] ..... kernel=linear, C=4, score=-7680.676161987811, total=14.2min\n",
      "[CV] kernel=rbf, C=4 .................................................\n",
      "[CV] ....... kernel=rbf, C=4, score=-7.3700536797149505, total=   1.7s\n",
      "[CV] kernel=rbf, C=4 .................................................\n",
      "[CV] ........ kernel=rbf, C=4, score=-7.119173029825669, total=   1.7s\n",
      "[CV] kernel=rbf, C=4 .................................................\n",
      "[CV] ........ kernel=rbf, C=4, score=-7.204879675435856, total=   1.8s\n"
     ]
    },
    {
     "name": "stderr",
     "output_type": "stream",
     "text": [
      "[Parallel(n_jobs=1)]: Done  24 out of  24 | elapsed: 154.1min finished\n"
     ]
    },
    {
     "name": "stdout",
     "output_type": "stream",
     "text": [
      "Millor combinacio: {'kernel': 'rbf', 'C': 4}\n",
      "Mean Absolute Error: 7.140475201272051\n",
      "Mean Squared Error: 90.5878895635302\n",
      "Root Mean Squared Error: 9.517767047135068\n"
     ]
    }
   ],
   "source": [
    "parameters = {'kernel':['linear', 'rbf'], \n",
    "              'C':[1, 2, 3, 4]}\n",
    "scoring = 'neg_mean_absolute_error'\n",
    "n_iter=8\n",
    "svr2 = svm.SVR()\n",
    "rscv=RandomizedSearchCV(svr2,parameters,n_iter,scoring,verbose=5)\n",
    "rscv.fit(X_train,y_train)\n",
    "print('Millor combinacio:', rscv.best_params_)\n",
    "y_pred = rscv.predict(X_test)\n",
    "print('Mean Absolute Error:', metrics.mean_absolute_error(y_test, y_pred))  \n",
    "print('Mean Squared Error:', metrics.mean_squared_error(y_test, y_pred))  \n",
    "print('Root Mean Squared Error:', np.sqrt(metrics.mean_squared_error(y_test, y_pred))) "
   ]
  },
  {
   "cell_type": "raw",
   "metadata": {},
   "source": []
  }
 ],
 "metadata": {
  "kernelspec": {
   "display_name": "Python 3",
   "language": "python",
   "name": "python3"
  },
  "language_info": {
   "codemirror_mode": {
    "name": "ipython",
    "version": 3
   },
   "file_extension": ".py",
   "mimetype": "text/x-python",
   "name": "python",
   "nbconvert_exporter": "python",
   "pygments_lexer": "ipython3",
   "version": "3.7.0"
  }
 },
 "nbformat": 4,
 "nbformat_minor": 2
}
