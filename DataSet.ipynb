{
 "cells": [
  {
   "cell_type": "code",
   "execution_count": 2,
   "metadata": {},
   "outputs": [],
   "source": [
    "from datetime import datetime\n",
    "import pandas as pd\n",
    "import numpy as np\n",
    "from scipy.interpolate import InterpolatedUnivariateSpline\n",
    "import matplotlib.pyplot as plt"
   ]
  },
  {
   "cell_type": "code",
   "execution_count": 3,
   "metadata": {},
   "outputs": [],
   "source": [
    "#creem una data limit, en aquest cas 1900 i la tornem un datetime per poder comparar amb la taula\n",
    "datestringMin = \"1990-01-01\"\n",
    "datestringMax = \"2013-01-01\"\n",
    "dtMin = datetime.strptime(datestringMin, '%Y-%m-%d')\n",
    "dtMax = datetime.strptime(datestringMax, '%Y-%m-%d')\n",
    "\n",
    "#carreguem csv\n",
    "#creem un DF en pandas, ficant na_values es canvia el tipus de les temperatures a float enlloc de object( degut als NaN es fica a object)\n",
    "emisions = pd.read_csv(\"Datasets/GreenhouseEmitions/greenhouse_gas_inventory_data_data.csv\", na_values = ['no info', '.'])\n",
    "temperatures=pd.read_csv(\"Datasets/TemperaturaGlobal/GlobalLandTemperaturesByCountry.csv\", na_values = ['no info', '.'])\n",
    "\n",
    "\n",
    "#es descarta Chipre perque no existeix al dataset\n",
    "paisos = [\"Austria\", \"Belgium\", \"Bulgaria\", \"Croatia\", \"Czech Republic\", \"Denmark\",\n",
    "          \"Estonia\", \"Finland\", \"France\", \"Germany\", \"Greece\", \"Hungary\", \"Ireland\", \"Italy\", \"Latvia\",\n",
    "          \"Lithuania\", \"Luxembourg\", \"Malta\", \"Netherlands\", \"Poland\", \"Portugal\", \"Romania\", \"Slovakia\",\n",
    "          \"Slovenia\", \"Spain\", \"Sweden\",\"United Kingdom\"]\n",
    "tipusGas = [\n",
    "  \"carbon_dioxide_co2_emissions_without_land_use_land_use_change_and_forestry_lulucf_in_kilotonne_co2_equivalent\",\n",
    "  \"nitrous_oxide_n2o_emissions_without_land_use_land_use_change_and_forestry_lulucf_in_kilotonne_co2_equivalent\",\n",
    "  \"methane_ch4_emissions_without_land_use_land_use_change_and_forestry_lulucf_in_kilotonne_co2_equivalent\"\n",
    "]\n",
    "paisosTest = [\"Austria\"]\n",
    "tempPais={}\n",
    "emisionsPais={}"
   ]
  },
  {
   "cell_type": "code",
   "execution_count": 4,
   "metadata": {},
   "outputs": [],
   "source": [
    "for pais in paisos:\n",
    "    arrayGasos=[]\n",
    "    gasxMes = {\"CO2\":[],\"N2O\":[],\"CH4\":[]}\n",
    "    for tipus in tipusGas:\n",
    "        emisionsGas = emisions[(emisions['category'] == tipus) & (emisions[\"country_or_area\"] == pais) & (emisions['year'] < 2013)]\n",
    "        emisionsGas = emisionsGas[['year','value']]\n",
    "        emisionsGas = emisionsGas.sort_values(by = ['year'])\n",
    "        punts = []\n",
    "        #iterar sobre cada fila del dataframe guardant dins d'una llista de tuples que seran punts per interpolar, arrodonint els kt de Co2 a 3 decimals\n",
    "        for index,row in emisionsGas.iterrows():\n",
    "            punts.append((row['year'], round(row['value'],3)))\n",
    "        xi, yi = zip(*punts)\n",
    "        #numero de punts que em de treure amb la interpolacio\n",
    "        x = np.linspace(min(xi), max(xi), num=len(punts)*12)\n",
    "        ysp = InterpolatedUnivariateSpline(xi, yi)(x)\n",
    "\n",
    "        #per cada valor del array resultant d'interpolar ho relacionem amb un mes any.mes\n",
    "        anyInicial = 1990\n",
    "        mesInicial = 0.00\n",
    "        for mostra in ysp:\n",
    "            if (mesInicial > 0.11):\n",
    "                anyInicial+= 1\n",
    "                mesInicial = 0.01\n",
    "            else:\n",
    "                mesInicial+= 0.01\n",
    "            if (tipus == \"carbon_dioxide_co2_emissions_without_land_use_land_use_change_and_forestry_lulucf_in_kilotonne_co2_equivalent\"):\n",
    "                gasxMes[\"CO2\"].append((anyInicial+mesInicial,pais,mostra))\n",
    "            elif(tipus == \"nitrous_oxide_n2o_emissions_without_land_use_land_use_change_and_forestry_lulucf_in_kilotonne_co2_equivalent\"):\n",
    "                gasxMes[\"N2O\"].append((anyInicial+mesInicial,pais,mostra))\n",
    "            elif(tipus == \"methane_ch4_emissions_without_land_use_land_use_change_and_forestry_lulucf_in_kilotonne_co2_equivalent\"):\n",
    "                gasxMes[\"CH4\"].append((anyInicial+mesInicial,pais,mostra))\n",
    "        if (tipus == \"carbon_dioxide_co2_emissions_without_land_use_land_use_change_and_forestry_lulucf_in_kilotonne_co2_equivalent\"):\n",
    "            labels = ['dt','Country','CO2']\n",
    "            emisionsGas=pd.DataFrame.from_records(gasxMes['CO2'], columns=labels)\n",
    "        elif(tipus == \"nitrous_oxide_n2o_emissions_without_land_use_land_use_change_and_forestry_lulucf_in_kilotonne_co2_equivalent\"):\n",
    "            labels = ['dt1','Country1','N2O']\n",
    "            emisionsGas=pd.DataFrame.from_records(gasxMes['N2O'], columns=labels)    \n",
    "        elif(tipus == \"methane_ch4_emissions_without_land_use_land_use_change_and_forestry_lulucf_in_kilotonne_co2_equivalent\"):\n",
    "            labels = ['dt2','Country2','CH4']      \n",
    "            emisionsGas=pd.DataFrame.from_records(gasxMes['CH4'], columns=labels)\n",
    "        arrayGasos.append(emisionsGas)\n",
    "\n",
    "    emisionsTotals=pd.concat(arrayGasos, axis=1, sort=False)\n",
    "    emisionsTotals=emisionsTotals.drop(['dt2','Country2','dt1','Country1'], axis=1)\n",
    "    emisionsPais[pais]=emisionsTotals\n",
    "    arrayGasos=[]"
   ]
  },
  {
   "cell_type": "code",
   "execution_count": 5,
   "metadata": {},
   "outputs": [
    {
     "name": "stderr",
     "output_type": "stream",
     "text": [
      "C:\\Users\\Miquel\\Anaconda3\\envs\\tensorflow\\lib\\site-packages\\pandas\\core\\frame.py:3140: SettingWithCopyWarning: \n",
      "A value is trying to be set on a copy of a slice from a DataFrame.\n",
      "Try using .loc[row_indexer,col_indexer] = value instead\n",
      "\n",
      "See the caveats in the documentation: http://pandas.pydata.org/pandas-docs/stable/indexing.html#indexing-view-versus-copy\n",
      "  self[k1] = value[k2]\n"
     ]
    },
    {
     "name": "stdout",
     "output_type": "stream",
     "text": [
      "Austria\n",
      "Belgium\n",
      "Bulgaria\n",
      "Croatia\n",
      "Czech Republic\n",
      "Denmark\n",
      "Estonia\n",
      "Finland\n",
      "France\n",
      "Germany\n",
      "Greece\n",
      "Hungary\n",
      "Ireland\n",
      "Italy\n",
      "Latvia\n",
      "Lithuania\n",
      "Luxembourg\n",
      "Malta\n",
      "Netherlands\n",
      "Poland\n",
      "Portugal\n",
      "Romania\n",
      "Slovakia\n",
      "Slovenia\n",
      "Spain\n",
      "Sweden\n",
      "United Kingdom\n"
     ]
    }
   ],
   "source": [
    "for pais in paisos:\n",
    "  #fa una copia del DF original amb les columnes que s'indiquen\n",
    "  temperaturesPais = temperatures[['Country','AverageTemperature','dt']]\n",
    "  #convertim les dates a datetime per poder agafar les que ens interessin\n",
    "  temperaturesPais[['dt']] = temperaturesPais[['dt']].apply(pd.to_datetime)\n",
    "  #ens centrem en un pais en concret en anys més elevats que 1900\n",
    "  temperaturesPais = temperaturesPais[(temperaturesPais['dt'] >= dtMin) & (temperaturesPais['Country'] == pais) & (temperaturesPais['dt'] < dtMax)]\n",
    "  #Fent aixo no sabem si esta copiant o substituint\n",
    "  #dfGer['dt'].dt.strftime('%Y')\n",
    "  #amb el loc si que sabem que substitueix a part de fer menys accessos a les dades\n",
    "  temperaturesPais.loc[:,'dt'] = temperaturesPais.loc[:,'dt'].dt.strftime('%Y')\n",
    "  \n",
    "  #convertim les dates de string a float\n",
    "  temperaturesPais['dt'] = temperaturesPais.dt.astype('float')\n",
    "  #fiquem el mes com si fossin decimals\n",
    "  anyInicial = 1990\n",
    "  mesInicial = 0.00\n",
    "  for index, row in temperaturesPais.iterrows():\n",
    "    if (mesInicial > 0.11):\n",
    "      mesInicial = 0.01\n",
    "    else:\n",
    "      mesInicial+= 0.01\n",
    "    temperaturesPais.loc[index,'dt'] = float(row['dt'])\n",
    "    temperaturesPais.loc[index,'dt'] = row['dt']+mesInicial\n",
    "  tempPais[pais] = temperaturesPais\n",
    "  print (pais)"
   ]
  },
  {
   "cell_type": "code",
   "execution_count": 6,
   "metadata": {},
   "outputs": [
    {
     "name": "stdout",
     "output_type": "stream",
     "text": [
      "Data                  False\n",
      "Country               False\n",
      "CO2                   False\n",
      "N2O                   False\n",
      "CH4                   False\n",
      "AverageTemperature    False\n",
      "Mes                   False\n",
      "dtype: bool\n"
     ]
    }
   ],
   "source": [
    "#fem merge dels datasets de temperatures i el de emisions\n",
    "result = pd.merge(emisionsPais[\"Germany\"], tempPais[\"Germany\"], on=['dt','Country'])\n",
    "dadesEuropa=[]\n",
    "for pais in emisionsPais:\n",
    "  dadesEuropa.append(pd.merge(emisionsPais[pais], tempPais[pais], on=['dt','Country']))\n",
    "result=pd.concat(dadesEuropa, ignore_index=True)\n",
    "resultPlot=pd.concat(dadesEuropa, ignore_index=True)\n",
    "mes = 1\n",
    "cops = 1\n",
    "for index in range(0,len(result)):\n",
    "    result.at[index,'Mes'] = mes\n",
    "    if (mes==12):\n",
    "        mes=1\n",
    "    else:\n",
    "        mes =mes+1\n",
    "    \n",
    "result.rename(columns={'dt':'Data'},inplace=True)\n",
    "resultPlot.rename(columns={'dt':'Data'},inplace=True)\n",
    "result['Data'] = result.Data.astype('int')\n",
    "result['Mes'] = result.Mes.astype('int')\n",
    "print(result.isnull().any())\n",
    "#result.to_csv('DataSetFinal.csv')"
   ]
  },
  {
   "cell_type": "code",
   "execution_count": 22,
   "metadata": {},
   "outputs": [
    {
     "data": {
      "image/png": "[encoded data removed]",
      "text/plain": [
       "<Figure size 432x288 with 1 Axes>"
      ]
     },
     "metadata": {
      "needs_background": "light"
     },
     "output_type": "display_data"
    }
   ],
   "source": [
    "resultFin = result[(result['Country'] == \"Finland\")]\n",
    "resultFin = resultFin['AverageTemperature']\n",
    "resultIt = result[(result['Country'] == \"Italy\")]\n",
    "resultIt = resultIt['AverageTemperature']\n",
    "resultGer = result[(result['Country'] == \"Germany\")]\n",
    "resultGer = resultGer['AverageTemperature']\n",
    "resultPor = result[(result['Country'] == \"Portugal\")]\n",
    "resultPor = resultPor['AverageTemperature']\n",
    "\n",
    "boxDF=pd.DataFrame({'Finlàndia':resultFin,'Alemanya':resultGer,'Italia':resultIt,'Portugal':resultPor})\n",
    "boxplot = boxDF.boxplot(column=['Finlàndia', 'Alemanya', 'Italia','Portugal'])"
   ]
  },
  {
   "cell_type": "code",
   "execution_count": null,
   "metadata": {},
   "outputs": [],
   "source": [
    "print (resultPlot2)"
   ]
  },
  {
   "cell_type": "code",
   "execution_count": null,
   "metadata": {},
   "outputs": [],
   "source": []
  },
  {
   "cell_type": "code",
   "execution_count": null,
   "metadata": {},
   "outputs": [],
   "source": []
  }
 ],
 "metadata": {
  "kernelspec": {
   "display_name": "Python 3",
   "language": "python",
   "name": "python3"
  },
  "language_info": {
   "codemirror_mode": {
    "name": "ipython",
    "version": 3
   },
   "file_extension": ".py",
   "mimetype": "text/x-python",
   "name": "python",
   "nbconvert_exporter": "python",
   "pygments_lexer": "ipython3",
   "version": "3.6.7"
  }
 },
 "nbformat": 4,
 "nbformat_minor": 2
}
