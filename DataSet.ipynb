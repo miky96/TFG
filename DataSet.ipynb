{
 "cells": [
  {
   "cell_type": "code",
   "execution_count": 2,
   "metadata": {},
   "outputs": [],
   "source": [
    "from datetime import datetime\n",
    "import pandas as pd\n",
    "import numpy as np\n",
    "from scipy.interpolate import InterpolatedUnivariateSpline\n",
    "import matplotlib.pyplot as plt"
   ]
  },
  {
   "cell_type": "code",
   "execution_count": 3,
   "metadata": {},
   "outputs": [],
   "source": [
    "#creem una data limit, en aquest cas 1900 i la tornem un datetime per poder comparar amb la taula\n",
    "datestringMin = \"1990-01-01\"\n",
    "datestringMax = \"2013-01-01\"\n",
    "dtMin = datetime.strptime(datestringMin, '%Y-%m-%d')\n",
    "dtMax = datetime.strptime(datestringMax, '%Y-%m-%d')\n",
    "\n",
    "#carreguem csv\n",
    "#creem un DF en pandas, ficant na_values es canvia el tipus de les temperatures a float enlloc de object( degut als NaN es fica a object)\n",
    "emisions = pd.read_csv(\"Datasets/GreenhouseEmitions/greenhouse_gas_inventory_data_data.csv\", na_values = ['no info', '.'])\n",
    "temperatures=pd.read_csv(\"Datasets/TemperaturaGlobal/GlobalLandTemperaturesByCountry.csv\", na_values = ['no info', '.'])\n",
    "\n",
    "\n",
    "#es descarta Chipre perque no existeix al dataset\n",
    "paisos = [\"Austria\", \"Belgium\", \"Bulgaria\", \"Croatia\", \"Czech Republic\", \"Denmark\",\n",
    "          \"Estonia\", \"Finland\", \"France\", \"Germany\", \"Greece\", \"Hungary\", \"Ireland\", \"Italy\", \"Latvia\",\n",
    "          \"Lithuania\", \"Luxembourg\", \"Malta\", \"Netherlands\", \"Poland\", \"Portugal\", \"Romania\", \"Slovakia\",\n",
    "          \"Slovenia\", \"Spain\", \"Sweden\",\"United Kingdom\"]\n",
    "tipusGas = [\n",
    "  \"carbon_dioxide_co2_emissions_without_land_use_land_use_change_and_forestry_lulucf_in_kilotonne_co2_equivalent\",\n",
    "  \"nitrous_oxide_n2o_emissions_without_land_use_land_use_change_and_forestry_lulucf_in_kilotonne_co2_equivalent\",\n",
    "  \"methane_ch4_emissions_without_land_use_land_use_change_and_forestry_lulucf_in_kilotonne_co2_equivalent\"\n",
    "]\n",
    "\n",
    "tempPais={}\n",
    "emisionsPais={}"
   ]
  },
  {
   "cell_type": "code",
   "execution_count": 4,
   "metadata": {},
   "outputs": [],
   "source": [
    "for pais in paisos:\n",
    "  arrayGasos=[]\n",
    "  for tipus in tipusGas:\n",
    "    emisionsGas = emisions[(emisions['category'] == tipus) & (emisions[\"country_or_area\"] == pais) & (emisions['year'] < 2013)]\n",
    "    emisionsGas = emisionsGas[['year','value']]\n",
    "    emisionsGas = emisionsGas.sort_values(by = ['year'])\n",
    "    punts = []\n",
    "    #iterar sobre cada fila del dataframe guardant dins d'una llista de tuples que seran punts per interpolar, arrodonint els kt de Co2 a 3 decimals\n",
    "    for index,row in emisionsGas.iterrows():\n",
    "      punts.append((row['year'], round(row['value'],3)))\n",
    "    xi, yi = zip(*punts)\n",
    "    #numero de punts que em de treure amb la interpolacio\n",
    "    x = np.linspace(min(xi), max(xi), num=len(punts)*12)\n",
    "    ysp = InterpolatedUnivariateSpline(xi, yi)(x)\n",
    "\n",
    "    #per cada valor del array resultant d'interpolar ho relacionem amb un mes any.mes\n",
    "    anyInicial = 1990\n",
    "    mesInicial = 0.00\n",
    "    gasxMes = []\n",
    "    for mostra in ysp:\n",
    "      if (mesInicial > 0.11):\n",
    "        anyInicial+= 1\n",
    "        mesInicial = 0.01\n",
    "      else:\n",
    "        mesInicial+= 0.01\n",
    "      if (tipus == \"carbon_dioxide_co2_emissions_without_land_use_land_use_change_and_forestry_lulucf_in_kilotonne_co2_equivalent\"):\n",
    "        gasxMes.append((anyInicial+mesInicial,mostra,pais,\"CO2\"))\n",
    "      elif(tipus == \"nitrous_oxide_n2o_emissions_without_land_use_land_use_change_and_forestry_lulucf_in_kilotonne_co2_equivalent\"):\n",
    "        gasxMes.append((anyInicial+mesInicial,mostra,pais,\"N2O\"))\n",
    "      elif(tipus == \"methane_ch4_emissions_without_land_use_land_use_change_and_forestry_lulucf_in_kilotonne_co2_equivalent\"):\n",
    "        gasxMes.append((anyInicial+mesInicial,mostra,pais,\"CH4\"))\n",
    "    #creem el dataset indicant el nom de les columnes i amb l'array de tuples que s'ha fet en el for\n",
    "    labels = ['dt','Value','Country','Type']\n",
    "    emisionsGas=pd.DataFrame.from_records(gasxMes, columns=labels)\n",
    "    arrayGasos.append(emisionsGas)\n",
    "  emisionsTotals=pd.concat(arrayGasos, ignore_index=True)\n",
    "  emisionsPais[pais]=emisionsTotals\n",
    "  arrayGasos=[]"
   ]
  },
  {
   "cell_type": "code",
   "execution_count": 5,
   "metadata": {},
   "outputs": [
    {
     "name": "stderr",
     "output_type": "stream",
     "text": [
      "E:\\Anaconda\\lib\\site-packages\\pandas\\core\\frame.py:3140: SettingWithCopyWarning: \n",
      "A value is trying to be set on a copy of a slice from a DataFrame.\n",
      "Try using .loc[row_indexer,col_indexer] = value instead\n",
      "\n",
      "See the caveats in the documentation: http://pandas.pydata.org/pandas-docs/stable/indexing.html#indexing-view-versus-copy\n",
      "  self[k1] = value[k2]\n"
     ]
    },
    {
     "name": "stdout",
     "output_type": "stream",
     "text": [
      "Austria\n",
      "Belgium\n",
      "Bulgaria\n",
      "Croatia\n",
      "Czech Republic\n",
      "Denmark\n",
      "Estonia\n",
      "Finland\n",
      "France\n",
      "Germany\n",
      "Greece\n",
      "Hungary\n",
      "Ireland\n",
      "Italy\n",
      "Latvia\n",
      "Lithuania\n",
      "Luxembourg\n",
      "Malta\n",
      "Netherlands\n",
      "Poland\n",
      "Portugal\n",
      "Romania\n",
      "Slovakia\n",
      "Slovenia\n",
      "Spain\n",
      "Sweden\n",
      "United Kingdom\n"
     ]
    }
   ],
   "source": [
    "for pais in paisos:\n",
    "  #fa una copia del DF original amb les columnes que s'indiquen\n",
    "  temperaturesPais = temperatures[['Country','AverageTemperature','dt']]\n",
    "  #convertim les dates a datetime per poder agafar les que ens interessin\n",
    "  temperaturesPais[['dt']] = temperaturesPais[['dt']].apply(pd.to_datetime)\n",
    "  #ens centrem en un pais en concret en anys més elevats que 1900\n",
    "  temperaturesPais = temperaturesPais[(temperaturesPais['dt'] >= dtMin) & (temperaturesPais['Country'] == pais) & (temperaturesPais['dt'] < dtMax)]\n",
    "  #Fent aixo no sabem si esta copiant o substituint\n",
    "  #dfGer['dt'].dt.strftime('%Y')\n",
    "  #amb el loc si que sabem que substitueix a part de fer menys accessos a les dades\n",
    "  temperaturesPais.loc[:,'dt'] = temperaturesPais.loc[:,'dt'].dt.strftime('%Y')\n",
    "  \n",
    "  #convertim les dates de string a float\n",
    "  temperaturesPais['dt'] = temperaturesPais.dt.astype('float')\n",
    "  #fiquem el mes com si fossin decimals\n",
    "  anyInicial = 1990\n",
    "  mesInicial = 0.00\n",
    "  for index, row in temperaturesPais.iterrows():\n",
    "    if (mesInicial > 0.11):\n",
    "      mesInicial = 0.01\n",
    "    else:\n",
    "      mesInicial+= 0.01\n",
    "    temperaturesPais.loc[index,'dt'] = float(row['dt'])\n",
    "    temperaturesPais.loc[index,'dt'] = row['dt']+mesInicial\n",
    "  tempPais[pais] = temperaturesPais\n",
    "  print (pais)"
   ]
  },
  {
   "cell_type": "code",
   "execution_count": 87,
   "metadata": {},
   "outputs": [],
   "source": [
    "#fem merge dels datasets de temperatures i el de emisions\n",
    "result = pd.merge(emisionsPais[\"Germany\"], tempPais[\"Germany\"], on=['dt','Country'])\n",
    "dadesEuropa=[]\n",
    "for pais in emisionsPais:\n",
    "  dadesEuropa.append(pd.merge(emisionsPais[pais], tempPais[pais], on=['dt','Country']))\n",
    "result=pd.concat(dadesEuropa, ignore_index=True)\n",
    "resultPlot=pd.concat(dadesEuropa, ignore_index=True)\n",
    "mes = 1\n",
    "cops = 1\n",
    "\n",
    "for index in range(0,len(result)):\n",
    "  if mes < 13:\n",
    "    if cops < 4:\n",
    "      result.at[index,'Mes'] = mes\n",
    "      cops += 1\n",
    "    else:\n",
    "      cops = 1\n",
    "      mes+=1\n",
    "      if cops < 4:\n",
    "        result.at[index,'Mes'] = mes\n",
    "        cops += 1\n",
    "  else:\n",
    "    mes = 1\n",
    "    if cops < 4:\n",
    "      result.at[index,'Mes'] = mes\n",
    "      cops += 1\n",
    "result.rename(columns={'dt':'Data'},inplace=True)\n",
    "resultPlot.rename(columns={'dt':'Data'},inplace=True)\n",
    "result['Data'] = result.Data.astype('int')\n",
    "result['Mes'] = result.Mes.astype('int')\n",
    "#Canviem els paisos per numeros\n",
    "#Npais = 1\n",
    "#for pais in paisos:\n",
    "#    result.Country[result.Country == pais] = Npais\n",
    "#    Npais += 1\n",
    "result.to_csv('DataSetFinal.csv')"
   ]
  },
  {
   "cell_type": "code",
   "execution_count": 102,
   "metadata": {},
   "outputs": [
    {
     "data": {
      "text/plain": [
       "<matplotlib.axes._subplots.AxesSubplot at 0x13fb4de2c88>"
      ]
     },
     "execution_count": 102,
     "metadata": {},
     "output_type": "execute_result"
    },
    {
     "data": {
      "image/png": "[encoded data removed]",
      "text/plain": [
       "<Figure size 720x360 with 1 Axes>"
      ]
     },
     "metadata": {
      "needs_background": "light"
     },
     "output_type": "display_data"
    }
   ],
   "source": [
    "ind=42\n",
    "array=[]\n",
    "resultPlot2 = resultPlot[(resultPlot['Country'] == \"Austria\")&(resultPlot['Type'] == \"CO2\")]\n",
    "for index, row in resultPlot2.iterrows():\n",
    "    if(index%ind==0):\n",
    "        array.append(row)\n",
    "labels = ['Data','AverageTemperature','Country','Type']\n",
    "dadesPlot=pd.DataFrame.from_records(array, columns=labels)\n",
    "fig, ax = plt.subplots()\n",
    "ax.set(ylabel='Temperatura',\n",
    "       title='Temperatura de Gener a Austria')\n",
    "dadesPlot.plot(kind='line',marker='o',x='Data',y='AverageTemperature',figsize=(10,5),ax=ax)"
   ]
  },
  {
   "cell_type": "code",
   "execution_count": 103,
   "metadata": {},
   "outputs": [
    {
     "name": "stdout",
     "output_type": "stream",
     "text": [
      "       Data  AverageTemperature  Country Type\n",
      "0   1990.01              -2.443  Austria  CO2\n",
      "1   1991.03               4.694  Austria  CO2\n",
      "2   1992.05              12.666  Austria  CO2\n",
      "3   1993.07              15.421  Austria  CO2\n",
      "4   1994.09              13.393  Austria  CO2\n",
      "5   1995.11               0.118  Austria  CO2\n",
      "6   1997.01              -3.984  Austria  CO2\n",
      "7   1998.03               1.834  Austria  CO2\n",
      "8   1999.05              12.749  Austria  CO2\n",
      "9   2000.07              14.867  Austria  CO2\n",
      "10  2001.09              10.040  Austria  CO2\n",
      "11  2002.11               4.562  Austria  CO2\n",
      "12  2004.01              -4.173  Austria  CO2\n",
      "13  2005.03               0.994  Austria  CO2\n",
      "14  2006.05              11.521  Austria  CO2\n",
      "15  2007.07              17.422  Austria  CO2\n",
      "16  2008.09              11.259  Austria  CO2\n",
      "17  2009.11               4.075  Austria  CO2\n",
      "18  2011.01              -2.632  Austria  CO2\n",
      "19  2012.03               5.287  Austria  CO2\n"
     ]
    }
   ],
   "source": [
    "print (dadesPlot)"
   ]
  },
  {
   "cell_type": "code",
   "execution_count": 97,
   "metadata": {},
   "outputs": [
    {
     "name": "stdout",
     "output_type": "stream",
     "text": [
      "        Data         Value  Country Type  AverageTemperature\n",
      "0    1990.01  62297.166000  Austria  CO2              -2.443\n",
      "3    1990.02  63417.203939  Austria  CO2               2.713\n",
      "6    1990.03  64354.776643  Austria  CO2               5.391\n",
      "9    1990.04  65120.698769  Austria  CO2               5.462\n",
      "12   1990.05  65725.784968  Austria  CO2              12.561\n",
      "15   1990.06  66180.849897  Austria  CO2              14.199\n",
      "18   1990.07  66496.708208  Austria  CO2              15.992\n",
      "21   1990.08  66684.174557  Austria  CO2              16.846\n",
      "24   1990.09  66754.063597  Austria  CO2              10.564\n",
      "27   1990.10  66717.189983  Austria  CO2               8.224\n",
      "30   1990.11  66584.368368  Austria  CO2               2.021\n",
      "33   1990.12  66366.413408  Austria  CO2              -3.402\n",
      "36   1991.01  66074.139756  Austria  CO2              -2.544\n",
      "39   1991.02  65718.362066  Austria  CO2              -4.620\n",
      "42   1991.03  65309.894994  Austria  CO2               4.694\n",
      "45   1991.04  64859.553192  Austria  CO2               5.313\n",
      "48   1991.05  64378.151315  Austria  CO2               7.921\n",
      "51   1991.06  63876.504017  Austria  CO2              13.791\n",
      "54   1991.07  63365.425953  Austria  CO2              17.546\n",
      "57   1991.08  62855.731777  Austria  CO2              16.674\n",
      "60   1991.09  62358.236143  Austria  CO2              13.871\n",
      "63   1991.10  61883.753705  Austria  CO2               6.061\n",
      "66   1991.11  61443.099118  Austria  CO2               1.429\n",
      "69   1991.12  61047.087035  Austria  CO2              -3.841\n",
      "72   1992.01  60706.532111  Austria  CO2              -2.022\n",
      "75   1992.02  60432.249000  Austria  CO2              -0.083\n",
      "78   1992.03  60231.870283  Austria  CO2               2.713\n",
      "81   1992.04  60100.300245  Austria  CO2               6.313\n",
      "84   1992.05  60029.261100  Austria  CO2              12.666\n",
      "87   1992.06  60010.475060  Austria  CO2              15.300\n",
      "..       ...           ...      ...  ...                 ...\n",
      "738  2010.07  70786.570719  Austria  CO2              18.837\n",
      "741  2010.08  71308.748001  Austria  CO2              16.074\n",
      "744  2010.09  71788.130803  Austria  CO2              11.131\n",
      "747  2010.10  72203.047384  Austria  CO2               5.775\n",
      "750  2010.11  72531.826000  Austria  CO2               3.453\n",
      "753  2010.12  72757.808159  Austria  CO2              -4.655\n",
      "756  2011.01  72884.388375  Austria  CO2              -2.632\n",
      "759  2011.02  72919.974415  Austria  CO2              -1.468\n",
      "762  2011.03  72872.974044  Austria  CO2               3.732\n",
      "765  2011.04  72751.795029  Austria  CO2               9.765\n",
      "768  2011.05  72564.845135  Austria  CO2              12.723\n",
      "771  2011.06  72320.532129  Austria  CO2              15.704\n",
      "774  2011.07  72027.263776  Austria  CO2              15.705\n",
      "777  2011.08  71693.447843  Austria  CO2              17.802\n",
      "780  2011.09  71327.492095  Austria  CO2              14.657\n",
      "783  2011.10  70937.804298  Austria  CO2               6.883\n",
      "786  2011.11  70532.792219  Austria  CO2               1.648\n",
      "789  2011.12  70120.863623  Austria  CO2              -0.252\n",
      "792  2012.01  69710.426276  Austria  CO2              -1.791\n",
      "795  2012.02  69309.887945  Austria  CO2              -5.610\n",
      "798  2012.03  68927.656396  Austria  CO2               5.287\n",
      "801  2012.04  68572.139394  Austria  CO2               7.339\n",
      "804  2012.05  68251.744705  Austria  CO2              12.795\n",
      "807  2012.06  67974.880095  Austria  CO2              16.222\n",
      "810  2012.07  67749.953331  Austria  CO2              17.555\n",
      "813  2012.08  67585.372178  Austria  CO2              17.923\n",
      "816  2012.09  67489.544403  Austria  CO2              12.887\n",
      "819  2012.10  67470.877770  Austria  CO2               7.277\n",
      "822  2012.11  67537.780048  Austria  CO2               3.844\n",
      "825  2012.12  67698.659000  Austria  CO2              -2.392\n",
      "\n",
      "[276 rows x 5 columns]\n"
     ]
    }
   ],
   "source": [
    "print (resultPlot2)"
   ]
  },
  {
   "cell_type": "code",
   "execution_count": null,
   "metadata": {},
   "outputs": [],
   "source": []
  }
 ],
 "metadata": {
  "kernelspec": {
   "display_name": "Python 3",
   "language": "python",
   "name": "python3"
  },
  "language_info": {
   "codemirror_mode": {
    "name": "ipython",
    "version": 3
   },
   "file_extension": ".py",
   "mimetype": "text/x-python",
   "name": "python",
   "nbconvert_exporter": "python",
   "pygments_lexer": "ipython3",
   "version": "3.7.0"
  }
 },
 "nbformat": 4,
 "nbformat_minor": 2
}
