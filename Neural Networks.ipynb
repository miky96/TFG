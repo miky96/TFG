{
 "cells": [
  {
   "cell_type": "code",
   "execution_count": 1,
   "metadata": {},
   "outputs": [],
   "source": [
    "from sklearn.neural_network import MLPRegressor\n",
    "import pandas as pd\n",
    "import numpy as np\n",
    "from sklearn.model_selection import train_test_split\n",
    "from sklearn import metrics\n",
    "from sklearn.model_selection import GridSearchCV\n",
    "from sklearn.model_selection import RandomizedSearchCV"
   ]
  },
  {
   "cell_type": "code",
   "execution_count": 2,
   "metadata": {},
   "outputs": [],
   "source": [
    "tempIemisions = pd.read_csv(\"DataSetFinal.csv\", index_col=0)\n",
    "dummiesCountry=pd.get_dummies(tempIemisions['Country'],drop_first=1)\n",
    "tempIemisions=pd.concat([tempIemisions,dummiesCountry],axis=1)\n",
    "tempIemisions=tempIemisions.drop(['Country'], axis=1)\n",
    "\n",
    "#fem X totes les columnes menys temp i y nomes temp el axis=1 es per indicar\n",
    "#que es una label de les columnes\n",
    "X = tempIemisions.drop('AverageTemperature', axis=1)\n",
    "y = tempIemisions['AverageTemperature']\n",
    "\n",
    "#dividim el dataSet en test 20% i entrenament 80%\n",
    "#el random_state es la llavor que s'utilitzarà per randomitzar \n",
    "X_train, X_test, y_train, y_test = train_test_split(X, y, test_size=0.2, random_state=2)"
   ]
  },
  {
   "cell_type": "code",
   "execution_count": 15,
   "metadata": {},
   "outputs": [
    {
     "name": "stdout",
     "output_type": "stream",
     "text": [
      "Mean Absolute Error: 7.145889690077065\n",
      "Mean Squared Error: 88.29128340644341\n",
      "Root Mean Squared Error: 9.396344151128321\n"
     ]
    }
   ],
   "source": [
    "neuralN = MLPRegressor(solver = \"lbfgs\", activation = \"logistic\")\n",
    "neuralN.fit(X_train, y_train)\n",
    "y_pred = neuralN.predict(X_test)\n",
    "df=pd.DataFrame({'Actual':y_test, 'Predicted':y_pred})  \n",
    "print('Mean Absolute Error:', metrics.mean_absolute_error(y_test, y_pred))  \n",
    "print('Mean Squared Error:', metrics.mean_squared_error(y_test, y_pred))  \n",
    "print('Root Mean Squared Error:', np.sqrt(metrics.mean_squared_error(y_test, y_pred)))\n",
    "comparacio=pd.DataFrame({'Actual':y_test, 'Predicted':y_pred})"
   ]
  },
  {
   "cell_type": "code",
   "execution_count": 17,
   "metadata": {},
   "outputs": [
    {
     "name": "stdout",
     "output_type": "stream",
     "text": [
      "Fitting 3 folds for each of 8 candidates, totalling 24 fits\n",
      "[CV] activation=tanh, hidden_layer_sizes=(30, 30, 30), solver=lbfgs ..\n",
      "[CV]  activation=tanh, hidden_layer_sizes=(30, 30, 30), solver=lbfgs, score=-7.283798789309845, total=   0.1s\n",
      "[CV] activation=tanh, hidden_layer_sizes=(30, 30, 30), solver=lbfgs ..\n"
     ]
    },
    {
     "name": "stderr",
     "output_type": "stream",
     "text": [
      "[Parallel(n_jobs=1)]: Done   1 out of   1 | elapsed:    0.1s remaining:    0.0s\n"
     ]
    },
    {
     "name": "stdout",
     "output_type": "stream",
     "text": [
      "[CV]  activation=tanh, hidden_layer_sizes=(30, 30, 30), solver=lbfgs, score=-7.118845519583976, total=   0.2s\n",
      "[CV] activation=tanh, hidden_layer_sizes=(30, 30, 30), solver=lbfgs ..\n",
      "[CV]  activation=tanh, hidden_layer_sizes=(30, 30, 30), solver=lbfgs, score=-7.150819134851446, total=   0.1s\n",
      "[CV] activation=tanh, hidden_layer_sizes=(30, 30, 30), solver=sgd ....\n"
     ]
    },
    {
     "name": "stderr",
     "output_type": "stream",
     "text": [
      "[Parallel(n_jobs=1)]: Done   2 out of   2 | elapsed:    0.4s remaining:    0.0s\n",
      "[Parallel(n_jobs=1)]: Done   3 out of   3 | elapsed:    0.6s remaining:    0.0s\n"
     ]
    },
    {
     "name": "stdout",
     "output_type": "stream",
     "text": [
      "[CV]  activation=tanh, hidden_layer_sizes=(30, 30, 30), solver=sgd, score=-7.279540958816113, total=   0.2s\n",
      "[CV] activation=tanh, hidden_layer_sizes=(30, 30, 30), solver=sgd ....\n"
     ]
    },
    {
     "name": "stderr",
     "output_type": "stream",
     "text": [
      "[Parallel(n_jobs=1)]: Done   4 out of   4 | elapsed:    0.9s remaining:    0.0s\n"
     ]
    },
    {
     "name": "stdout",
     "output_type": "stream",
     "text": [
      "[CV]  activation=tanh, hidden_layer_sizes=(30, 30, 30), solver=sgd, score=-7.106373234737971, total=   0.3s\n",
      "[CV] activation=tanh, hidden_layer_sizes=(30, 30, 30), solver=sgd ....\n",
      "[CV]  activation=tanh, hidden_layer_sizes=(30, 30, 30), solver=sgd, score=-7.145931577879273, total=   0.3s\n",
      "[CV] activation=tanh, hidden_layer_sizes=(40, 40, 20, 50), solver=lbfgs \n",
      "[CV]  activation=tanh, hidden_layer_sizes=(40, 40, 20, 50), solver=lbfgs, score=-7.267827247347775, total=   0.2s\n",
      "[CV] activation=tanh, hidden_layer_sizes=(40, 40, 20, 50), solver=lbfgs \n",
      "[CV]  activation=tanh, hidden_layer_sizes=(40, 40, 20, 50), solver=lbfgs, score=-6.981395419794325, total=   1.0s\n",
      "[CV] activation=tanh, hidden_layer_sizes=(40, 40, 20, 50), solver=lbfgs \n",
      "[CV]  activation=tanh, hidden_layer_sizes=(40, 40, 20, 50), solver=lbfgs, score=-7.166192611607448, total=   2.0s\n",
      "[CV] activation=tanh, hidden_layer_sizes=(40, 40, 20, 50), solver=sgd \n",
      "[CV]  activation=tanh, hidden_layer_sizes=(40, 40, 20, 50), solver=sgd, score=-7.274702798187398, total=   0.2s\n",
      "[CV] activation=tanh, hidden_layer_sizes=(40, 40, 20, 50), solver=sgd \n",
      "[CV]  activation=tanh, hidden_layer_sizes=(40, 40, 20, 50), solver=sgd, score=-7.133916301698247, total=   0.2s\n",
      "[CV] activation=tanh, hidden_layer_sizes=(40, 40, 20, 50), solver=sgd \n",
      "[CV]  activation=tanh, hidden_layer_sizes=(40, 40, 20, 50), solver=sgd, score=-7.145316359994081, total=   0.2s\n",
      "[CV] activation=logistic, hidden_layer_sizes=(30, 30, 30), solver=lbfgs \n",
      "[CV]  activation=logistic, hidden_layer_sizes=(30, 30, 30), solver=lbfgs, score=-7.267828285684812, total=   0.3s\n",
      "[CV] activation=logistic, hidden_layer_sizes=(30, 30, 30), solver=lbfgs \n",
      "[CV]  activation=logistic, hidden_layer_sizes=(30, 30, 30), solver=lbfgs, score=-7.117945554602464, total=   0.3s\n",
      "[CV] activation=logistic, hidden_layer_sizes=(30, 30, 30), solver=lbfgs \n",
      "[CV]  activation=logistic, hidden_layer_sizes=(30, 30, 30), solver=lbfgs, score=-7.156844538975762, total=   0.1s\n",
      "[CV] activation=logistic, hidden_layer_sizes=(30, 30, 30), solver=sgd \n",
      "[CV]  activation=logistic, hidden_layer_sizes=(30, 30, 30), solver=sgd, score=-7.482624129957862, total=   0.1s\n",
      "[CV] activation=logistic, hidden_layer_sizes=(30, 30, 30), solver=sgd \n",
      "[CV]  activation=logistic, hidden_layer_sizes=(30, 30, 30), solver=sgd, score=-7.120030989093024, total=   1.0s\n",
      "[CV] activation=logistic, hidden_layer_sizes=(30, 30, 30), solver=sgd \n",
      "[CV]  activation=logistic, hidden_layer_sizes=(30, 30, 30), solver=sgd, score=-7.153339110582218, total=   1.2s\n",
      "[CV] activation=logistic, hidden_layer_sizes=(40, 40, 20, 50), solver=lbfgs \n",
      "[CV]  activation=logistic, hidden_layer_sizes=(40, 40, 20, 50), solver=lbfgs, score=-7.269289149580701, total=   1.8s\n",
      "[CV] activation=logistic, hidden_layer_sizes=(40, 40, 20, 50), solver=lbfgs \n",
      "[CV]  activation=logistic, hidden_layer_sizes=(40, 40, 20, 50), solver=lbfgs, score=-7.117510101519564, total=   0.5s\n",
      "[CV] activation=logistic, hidden_layer_sizes=(40, 40, 20, 50), solver=lbfgs \n",
      "[CV]  activation=logistic, hidden_layer_sizes=(40, 40, 20, 50), solver=lbfgs, score=-7.0697971988033474, total=   3.1s\n",
      "[CV] activation=logistic, hidden_layer_sizes=(40, 40, 20, 50), solver=sgd \n",
      "[CV]  activation=logistic, hidden_layer_sizes=(40, 40, 20, 50), solver=sgd, score=-7.484422261621585, total=   0.0s\n",
      "[CV] activation=logistic, hidden_layer_sizes=(40, 40, 20, 50), solver=sgd \n",
      "[CV]  activation=logistic, hidden_layer_sizes=(40, 40, 20, 50), solver=sgd, score=-7.302114907510518, total=   0.1s\n",
      "[CV] activation=logistic, hidden_layer_sizes=(40, 40, 20, 50), solver=sgd \n",
      "[CV]  activation=logistic, hidden_layer_sizes=(40, 40, 20, 50), solver=sgd, score=-7.353737852141748, total=   0.1s\n"
     ]
    },
    {
     "name": "stderr",
     "output_type": "stream",
     "text": [
      "[Parallel(n_jobs=1)]: Done  24 out of  24 | elapsed:   15.8s finished\n"
     ]
    },
    {
     "name": "stdout",
     "output_type": "stream",
     "text": [
      "Millor combinacio: {'activation': 'tanh', 'hidden_layer_sizes': (40, 40, 20, 50), 'solver': 'lbfgs'}\n",
      "Mean Absolute Error: 7.156803305736756\n",
      "Mean Squared Error: 88.31824027541445\n",
      "Root Mean Squared Error: 9.39777847554487\n"
     ]
    }
   ],
   "source": [
    "parameters = {'solver':['lbfgs', 'sgd'], 'activation':['tanh', 'logistic'],'hidden_layer_sizes':[(30,30,30), (40,40,20,50)]}\n",
    "neuralN1 = MLPRegressor()\n",
    "scoring = 'neg_mean_absolute_error'\n",
    "gscv=GridSearchCV(neuralN1,parameters,scoring,verbose=5)\n",
    "gscv.fit(X_train,y_train)\n",
    "\n",
    "#resultats\n",
    "print('Millor combinacio:', gscv.best_params_)\n",
    "y_pred = gscv.predict(X_test)\n",
    "print('Mean Absolute Error:', metrics.mean_absolute_error(y_test, y_pred))  \n",
    "print('Mean Squared Error:', metrics.mean_squared_error(y_test, y_pred))  \n",
    "print('Root Mean Squared Error:', np.sqrt(metrics.mean_squared_error(y_test, y_pred)))"
   ]
  },
  {
   "cell_type": "code",
   "execution_count": null,
   "metadata": {},
   "outputs": [],
   "source": []
  }
 ],
 "metadata": {
  "kernelspec": {
   "display_name": "Python 3",
   "language": "python",
   "name": "python3"
  },
  "language_info": {
   "codemirror_mode": {
    "name": "ipython",
    "version": 3
   },
   "file_extension": ".py",
   "mimetype": "text/x-python",
   "name": "python",
   "nbconvert_exporter": "python",
   "pygments_lexer": "ipython3",
   "version": "3.7.0"
  }
 },
 "nbformat": 4,
 "nbformat_minor": 2
}
