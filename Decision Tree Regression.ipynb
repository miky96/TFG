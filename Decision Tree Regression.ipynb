{
 "cells": [
  {
   "cell_type": "code",
   "execution_count": 1,
   "metadata": {},
   "outputs": [],
   "source": [
    "import pandas as pd\n",
    "import numpy as np\n",
    "import matplotlib.pyplot as plt\n",
    "from sklearn.model_selection import train_test_split\n",
    "from sklearn.tree import DecisionTreeRegressor\n",
    "from sklearn import metrics\n",
    "from sklearn.model_selection import GridSearchCV\n",
    "from sklearn.model_selection import RandomizedSearchCV\n",
    "from scipy.stats import randint as sp_randint \n",
    "from sklearn.tree import export_graphviz \n",
    "from sklearn.externals.six import StringIO  \n",
    "from IPython.display import Image  \n",
    "from sklearn.tree import export_graphviz\n",
    "import pydot"
   ]
  },
  {
   "cell_type": "code",
   "execution_count": 2,
   "metadata": {},
   "outputs": [],
   "source": [
    "tempIemisions = pd.read_csv(\"DataSetFinal.csv\", index_col=0)\n",
    "dummiesCountry=pd.get_dummies(tempIemisions['Country'],drop_first=1)\n",
    "tempIemisions=pd.concat([tempIemisions,dummiesCountry],axis=1)\n",
    "tempIemisions=tempIemisions.drop(['Country'], axis=1)"
   ]
  },
  {
   "cell_type": "code",
   "execution_count": 3,
   "metadata": {},
   "outputs": [
    {
     "name": "stdout",
     "output_type": "stream",
     "text": [
      "Mean Absolute Error: 1.6633936955063717\n",
      "Mean Squared Error: 5.034015990610329\n",
      "Root Mean Squared Error: 2.243661291418633\n",
      "      Actual  Predicted\n",
      "6549  12.831      9.647\n",
      "1737   6.847      4.497\n",
      "595   21.939     22.608\n",
      "793    2.101      6.176\n",
      "3612   4.824      5.721\n",
      "2786   8.855      8.470\n",
      "4726  18.706     18.031\n",
      "3535  15.300     15.401\n",
      "3567  11.100      9.765\n",
      "6184  13.177     15.777\n",
      "2328   6.820      7.974\n",
      "7051  17.054     14.711\n",
      "6891  11.121     15.336\n",
      "2362  11.783      9.202\n",
      "955   23.640     22.185\n",
      "2746   4.611      5.220\n",
      "4805  24.936     23.675\n",
      "7433  12.705     14.049\n",
      "88    12.270     12.106\n",
      "4077   6.785      8.267\n",
      "5660  20.295     20.261\n",
      "4332  -7.296     -0.583\n",
      "1160  14.623     12.682\n",
      "5403   7.381      8.598\n",
      "497   16.508     17.605\n",
      "761   21.941     21.642\n",
      "2126  -9.870     -4.163\n",
      "179   -2.043     -0.032\n",
      "4257   7.049      6.514\n",
      "128   12.455     16.030\n",
      "...      ...        ...\n",
      "6746  10.986     12.581\n",
      "2898  26.179     26.076\n",
      "2261  18.445     17.571\n",
      "4229  16.217     15.143\n",
      "1998  13.972     15.676\n",
      "3571  14.066     14.526\n",
      "4692  13.702     12.468\n",
      "5277   5.979      8.268\n",
      "647    1.690      2.506\n",
      "2206  -0.774      0.964\n",
      "6381   9.710      9.160\n",
      "4569   9.980      7.433\n",
      "1317   7.668      5.484\n",
      "7168   7.710      9.155\n",
      "3005  22.946     24.049\n",
      "622    3.051      5.767\n",
      "6303  11.843     10.837\n",
      "4780  20.263     19.455\n",
      "4949  23.028     23.694\n",
      "1666   0.582     -1.227\n",
      "4678   7.183      5.340\n",
      "6391  20.750     23.317\n",
      "6065  20.872     19.226\n",
      "3938  -3.307      1.622\n",
      "1343  -0.729     -4.660\n",
      "1912  11.117     11.796\n",
      "2927   7.301      7.395\n",
      "3954  18.698     18.936\n",
      "6818  11.077     10.180\n",
      "2118  17.249     15.145\n",
      "\n",
      "[1491 rows x 2 columns]\n"
     ]
    }
   ],
   "source": [
    "#fem X totes les columnes menys temp i y nomes temp el axis=1 es per indicar\n",
    "#que es una label de les columnes\n",
    "X = tempIemisions.drop('AverageTemperature', axis=1)\n",
    "y = tempIemisions['AverageTemperature']\n",
    "\n",
    "#dividim el dataSet en test 20% i entrenament 80%\n",
    "#el random_state es la llavor que s'utilitzarà per randomitzar \n",
    "X_train, X_test, y_train, y_test = train_test_split(X, y, test_size=0.2, random_state=2)\n",
    "#creem l'algorisme del arbre de decisions i l'entrenem\n",
    "regressor = DecisionTreeRegressor()\n",
    "regressor.fit(X_train,y_train)\n",
    "\n",
    "\n",
    "#fem les prediccions\n",
    "y_pred = regressor.predict(X_test)\n",
    "df=pd.DataFrame({'Actual':y_test, 'Predicted':y_pred})  \n",
    "print('Mean Absolute Error:', metrics.mean_absolute_error(y_test, y_pred))  \n",
    "print('Mean Squared Error:', metrics.mean_squared_error(y_test, y_pred))  \n",
    "print('Root Mean Squared Error:', np.sqrt(metrics.mean_squared_error(y_test, y_pred)))\n",
    "comparacio=pd.DataFrame({'Actual':y_test, 'Predicted':y_pred})\n",
    "print (comparacio)"
   ]
  },
  {
   "cell_type": "code",
   "execution_count": 4,
   "metadata": {},
   "outputs": [
    {
     "name": "stdout",
     "output_type": "stream",
     "text": [
      "Fitting 3 folds for each of 3724 candidates, totalling 11172 fits\n",
      "Millor combinacio: {'max_depth': 60, 'min_samples_leaf': 2, 'min_samples_split': 32}\n",
      "Mean Absolute Error: 1.3709749378117153\n",
      "Mean Squared Error: 3.3979482665410523\n",
      "Root Mean Squared Error: 1.8433524531518795\n"
     ]
    },
    {
     "name": "stderr",
     "output_type": "stream",
     "text": [
      "[Parallel(n_jobs=1)]: Done 11172 out of 11172 | elapsed:  3.0min finished\n"
     ]
    }
   ],
   "source": [
    "parameters = {'max_depth':range(10, 200, 10), \n",
    "              'min_samples_split':range(2,70,5),\n",
    "              'min_samples_leaf':range(2,70,5)}\n",
    "scoring = 'neg_mean_absolute_error'\n",
    "regressor1 = DecisionTreeRegressor()\n",
    "gscv=GridSearchCV(regressor1,parameters,scoring,verbose=1)\n",
    "gscv.fit(X_train,y_train)\n",
    "\n",
    "#resultats\n",
    "print('Millor combinacio:', gscv.best_params_)\n",
    "y_pred = gscv.predict(X_test)\n",
    "print('Mean Absolute Error:', metrics.mean_absolute_error(y_test, y_pred))  \n",
    "print('Mean Squared Error:', metrics.mean_squared_error(y_test, y_pred))  \n",
    "print('Root Mean Squared Error:', np.sqrt(metrics.mean_squared_error(y_test, y_pred))) "
   ]
  },
  {
   "cell_type": "code",
   "execution_count": 5,
   "metadata": {},
   "outputs": [
    {
     "name": "stdout",
     "output_type": "stream",
     "text": [
      "Fitting 3 folds for each of 2000 candidates, totalling 6000 fits\n",
      "Millor combinacio: {'max_depth': 475, 'min_samples_leaf': 4, 'min_samples_split': 23}\n",
      "Mean Absolute Error: 1.3635898068667394\n",
      "Mean Squared Error: 3.420122176302294\n",
      "Root Mean Squared Error: 1.8493572332846604\n"
     ]
    },
    {
     "name": "stderr",
     "output_type": "stream",
     "text": [
      "[Parallel(n_jobs=1)]: Done 6000 out of 6000 | elapsed:  1.3min finished\n"
     ]
    }
   ],
   "source": [
    "parameters = {'max_depth':sp_randint(2, 500), \n",
    "              'min_samples_split':sp_randint(2, 150),\n",
    "              'min_samples_leaf':sp_randint(2, 150)}\n",
    "scoring = 'neg_mean_absolute_error'\n",
    "n_iter=2000\n",
    "regressor2 = DecisionTreeRegressor()\n",
    "rscv=RandomizedSearchCV(regressor2,parameters,n_iter,scoring,verbose=1)\n",
    "rscv.fit(X_train,y_train)\n",
    "print('Millor combinacio:', rscv.best_params_)\n",
    "y_pred = rscv.predict(X_test)\n",
    "print('Mean Absolute Error:', metrics.mean_absolute_error(y_test, y_pred))  \n",
    "print('Mean Squared Error:', metrics.mean_squared_error(y_test, y_pred))  \n",
    "print('Root Mean Squared Error:', np.sqrt(metrics.mean_squared_error(y_test, y_pred))) "
   ]
  },
  {
   "cell_type": "code",
   "execution_count": 7,
   "metadata": {},
   "outputs": [],
   "source": [
    "#decision tree per imprimir\n",
    "\n",
    "X = tempIemisions.drop('AverageTemperature', axis=1)\n",
    "y = tempIemisions['AverageTemperature']\n",
    "\n",
    "#dividim el dataSet en test 20% i entrenament 80%\n",
    "#el random_state es la llavor que s'utilitzarà per randomitzar \n",
    "X_train, X_test, y_train, y_test = train_test_split(X, y, test_size=0.2, random_state=2)\n",
    "#creem l'algorisme del arbre de decisions i l'entrenem\n",
    "regressor = DecisionTreeRegressor(max_depth=4)\n",
    "regressor.fit(X_train,y_train)\n",
    "\n",
    "#imprimir arbre\n",
    "dot_data = StringIO()\n",
    "\n",
    "export_graphviz(regressor, out_file='regressor.dot',  \n",
    "                filled=True, rounded=True,\n",
    "                special_characters=True)\n",
    "(graph,) = pydot.graph_from_dot_file('regressor.dot')\n",
    "graph.write_png('regressor.png')"
   ]
  },
  {
   "cell_type": "code",
   "execution_count": null,
   "metadata": {},
   "outputs": [],
   "source": []
  }
 ],
 "metadata": {
  "kernelspec": {
   "display_name": "Python 3",
   "language": "python",
   "name": "python3"
  },
  "language_info": {
   "codemirror_mode": {
    "name": "ipython",
    "version": 3
   },
   "file_extension": ".py",
   "mimetype": "text/x-python",
   "name": "python",
   "nbconvert_exporter": "python",
   "pygments_lexer": "ipython3",
   "version": "3.7.0"
  }
 },
 "nbformat": 4,
 "nbformat_minor": 2
}
