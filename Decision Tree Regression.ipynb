{
 "cells": [
  {
   "cell_type": "code",
   "execution_count": 1,
   "metadata": {},
   "outputs": [],
   "source": [
    "import pandas as pd\n",
    "import numpy as np\n",
    "import matplotlib.pyplot as plt\n",
    "from sklearn.model_selection import train_test_split\n",
    "from sklearn.tree import DecisionTreeRegressor\n",
    "from sklearn import metrics"
   ]
  },
  {
   "cell_type": "code",
   "execution_count": 7,
   "metadata": {},
   "outputs": [],
   "source": [
    "tempIemisions = pd.read_csv(\"DataSetFinal.csv\", index_col=0)\n"
   ]
  },
  {
   "cell_type": "code",
   "execution_count": 8,
   "metadata": {},
   "outputs": [
    {
     "data": {
      "text/html": [
       "<div>\n",
       "<style scoped>\n",
       "    .dataframe tbody tr th:only-of-type {\n",
       "        vertical-align: middle;\n",
       "    }\n",
       "\n",
       "    .dataframe tbody tr th {\n",
       "        vertical-align: top;\n",
       "    }\n",
       "\n",
       "    .dataframe thead th {\n",
       "        text-align: right;\n",
       "    }\n",
       "</style>\n",
       "<table border=\"1\" class=\"dataframe\">\n",
       "  <thead>\n",
       "    <tr style=\"text-align: right;\">\n",
       "      <th></th>\n",
       "      <th>dt</th>\n",
       "      <th>Value</th>\n",
       "      <th>Country</th>\n",
       "      <th>Type</th>\n",
       "      <th>AverageTemperature</th>\n",
       "      <th>Mes</th>\n",
       "    </tr>\n",
       "  </thead>\n",
       "  <tbody>\n",
       "    <tr>\n",
       "      <th>count</th>\n",
       "      <td>22356.000000</td>\n",
       "      <td>2.235600e+04</td>\n",
       "      <td>22356.000000</td>\n",
       "      <td>22356.000000</td>\n",
       "      <td>22356.000000</td>\n",
       "      <td>22356.000000</td>\n",
       "    </tr>\n",
       "    <tr>\n",
       "      <th>mean</th>\n",
       "      <td>2001.000000</td>\n",
       "      <td>6.270248e+04</td>\n",
       "      <td>14.000000</td>\n",
       "      <td>2.000000</td>\n",
       "      <td>9.230230</td>\n",
       "      <td>6.832797</td>\n",
       "    </tr>\n",
       "    <tr>\n",
       "      <th>std</th>\n",
       "      <td>6.633398</td>\n",
       "      <td>1.379788e+05</td>\n",
       "      <td>7.789055</td>\n",
       "      <td>0.816515</td>\n",
       "      <td>9.537685</td>\n",
       "      <td>3.484143</td>\n",
       "    </tr>\n",
       "    <tr>\n",
       "      <th>min</th>\n",
       "      <td>1990.000000</td>\n",
       "      <td>6.148900e+01</td>\n",
       "      <td>1.000000</td>\n",
       "      <td>1.000000</td>\n",
       "      <td>-34.665000</td>\n",
       "      <td>1.000000</td>\n",
       "    </tr>\n",
       "    <tr>\n",
       "      <th>25%</th>\n",
       "      <td>1995.000000</td>\n",
       "      <td>5.287999e+03</td>\n",
       "      <td>7.000000</td>\n",
       "      <td>1.000000</td>\n",
       "      <td>3.819500</td>\n",
       "      <td>4.000000</td>\n",
       "    </tr>\n",
       "    <tr>\n",
       "      <th>50%</th>\n",
       "      <td>2001.000000</td>\n",
       "      <td>1.352975e+04</td>\n",
       "      <td>14.000000</td>\n",
       "      <td>2.000000</td>\n",
       "      <td>10.129500</td>\n",
       "      <td>7.000000</td>\n",
       "    </tr>\n",
       "    <tr>\n",
       "      <th>75%</th>\n",
       "      <td>2007.000000</td>\n",
       "      <td>5.538075e+04</td>\n",
       "      <td>21.000000</td>\n",
       "      <td>3.000000</td>\n",
       "      <td>16.188250</td>\n",
       "      <td>10.000000</td>\n",
       "    </tr>\n",
       "    <tr>\n",
       "      <th>max</th>\n",
       "      <td>2012.000000</td>\n",
       "      <td>1.052238e+06</td>\n",
       "      <td>27.000000</td>\n",
       "      <td>3.000000</td>\n",
       "      <td>28.916000</td>\n",
       "      <td>13.000000</td>\n",
       "    </tr>\n",
       "  </tbody>\n",
       "</table>\n",
       "</div>"
      ],
      "text/plain": [
       "                 dt         Value       Country          Type  \\\n",
       "count  22356.000000  2.235600e+04  22356.000000  22356.000000   \n",
       "mean    2001.000000  6.270248e+04     14.000000      2.000000   \n",
       "std        6.633398  1.379788e+05      7.789055      0.816515   \n",
       "min     1990.000000  6.148900e+01      1.000000      1.000000   \n",
       "25%     1995.000000  5.287999e+03      7.000000      1.000000   \n",
       "50%     2001.000000  1.352975e+04     14.000000      2.000000   \n",
       "75%     2007.000000  5.538075e+04     21.000000      3.000000   \n",
       "max     2012.000000  1.052238e+06     27.000000      3.000000   \n",
       "\n",
       "       AverageTemperature           Mes  \n",
       "count        22356.000000  22356.000000  \n",
       "mean             9.230230      6.832797  \n",
       "std              9.537685      3.484143  \n",
       "min            -34.665000      1.000000  \n",
       "25%              3.819500      4.000000  \n",
       "50%             10.129500      7.000000  \n",
       "75%             16.188250     10.000000  \n",
       "max             28.916000     13.000000  "
      ]
     },
     "execution_count": 8,
     "metadata": {},
     "output_type": "execute_result"
    }
   ],
   "source": [
    "tempIemisions.describe()"
   ]
  },
  {
   "cell_type": "code",
   "execution_count": 9,
   "metadata": {},
   "outputs": [
    {
     "data": {
      "text/plain": [
       "DecisionTreeRegressor(criterion='mse', max_depth=None, max_features=None,\n",
       "           max_leaf_nodes=None, min_impurity_decrease=0.0,\n",
       "           min_impurity_split=None, min_samples_leaf=1,\n",
       "           min_samples_split=2, min_weight_fraction_leaf=0.0,\n",
       "           presort=False, random_state=None, splitter='best')"
      ]
     },
     "execution_count": 9,
     "metadata": {},
     "output_type": "execute_result"
    }
   ],
   "source": [
    "#fem X totes les columnes menys temp i y nomes temp el axis=1 es per indicar\n",
    "#que es una label de les columnes\n",
    "X = tempIemisions.drop('AverageTemperature', axis=1)\n",
    "y = tempIemisions['AverageTemperature']\n",
    "\n",
    "#dividim el dataSet en test 20% i entrenament 80%\n",
    "#el random_state es la llavor que s'utilitzarà per randomitzar \n",
    "X_train, X_test, y_train, y_test = train_test_split(X, y, test_size=0.2, random_state=0)\n",
    "\n",
    "#creem l'algorisme del arbre de decisions i l'entrenem\n",
    "regressor = DecisionTreeRegressor()\n",
    "regressor.fit(X_train,y_train\n",
    "\n",
    "#fem les prediccions\n",
    "y_pred = regressor.predict(X_test)\n",
    "df=pd.DataFrame({'Actual':y_test, 'Predicted':y_pred})  \n",
    "print('Mean Absolute Error:', metrics.mean_absolute_error(y_test, y_pred))  \n",
    "print('Mean Squared Error:', metrics.mean_squared_error(y_test, y_pred))  \n",
    "print('Root Mean Squared Error:', np.sqrt(metrics.mean_squared_error(y_test, y_pred))) "
   ]
  },
  {
   "cell_type": "code",
   "execution_count": null,
   "metadata": {},
   "outputs": [],
   "source": []
  },
  {
   "cell_type": "code",
   "execution_count": null,
   "metadata": {},
   "outputs": [],
   "source": []
  }
 ],
 "metadata": {
  "kernelspec": {
   "display_name": "Python 3",
   "language": "python",
   "name": "python3"
  },
  "language_info": {
   "codemirror_mode": {
    "name": "ipython",
    "version": 3
   },
   "file_extension": ".py",
   "mimetype": "text/x-python",
   "name": "python",
   "nbconvert_exporter": "python",
   "pygments_lexer": "ipython3",
   "version": "3.7.0"
  }
 },
 "nbformat": 4,
 "nbformat_minor": 2
}
